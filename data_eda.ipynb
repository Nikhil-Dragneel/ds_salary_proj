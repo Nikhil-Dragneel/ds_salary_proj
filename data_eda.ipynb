{
 "cells": [
  {
   "cell_type": "code",
   "execution_count": 2,
   "metadata": {},
   "outputs": [],
   "source": [
    "import pandas as pd\n",
    "import matplotlib.pyplot as plt\n",
    "import seaborn as sns"
   ]
  },
  {
   "cell_type": "code",
   "execution_count": 3,
   "metadata": {},
   "outputs": [],
   "source": [
    "df = pd.read_csv('salary_data_cleansed.csv')"
   ]
  },
  {
   "cell_type": "code",
   "execution_count": 4,
   "metadata": {},
   "outputs": [
    {
     "data": {
      "text/html": [
       "<div>\n",
       "<style scoped>\n",
       "    .dataframe tbody tr th:only-of-type {\n",
       "        vertical-align: middle;\n",
       "    }\n",
       "\n",
       "    .dataframe tbody tr th {\n",
       "        vertical-align: top;\n",
       "    }\n",
       "\n",
       "    .dataframe thead th {\n",
       "        text-align: right;\n",
       "    }\n",
       "</style>\n",
       "<table border=\"1\" class=\"dataframe\">\n",
       "  <thead>\n",
       "    <tr style=\"text-align: right;\">\n",
       "      <th></th>\n",
       "      <th>Job Title</th>\n",
       "      <th>Salary Estimate</th>\n",
       "      <th>Job Function</th>\n",
       "      <th>Job Description</th>\n",
       "      <th>Company Name</th>\n",
       "      <th>Rating</th>\n",
       "      <th>Location</th>\n",
       "      <th>Size</th>\n",
       "      <th>Founded</th>\n",
       "      <th>Type of ownership</th>\n",
       "      <th>...</th>\n",
       "      <th>max_salary</th>\n",
       "      <th>avg_salary</th>\n",
       "      <th>age</th>\n",
       "      <th>python_yn</th>\n",
       "      <th>R_yn</th>\n",
       "      <th>spark</th>\n",
       "      <th>aws</th>\n",
       "      <th>excel</th>\n",
       "      <th>company_txt</th>\n",
       "      <th>job_state</th>\n",
       "    </tr>\n",
       "  </thead>\n",
       "  <tbody>\n",
       "    <tr>\n",
       "      <td>0</td>\n",
       "      <td>Data Scientist</td>\n",
       "      <td>₹970K - 0 (Glassdoor Est.)</td>\n",
       "      <td>Data Scientist</td>\n",
       "      <td>Bayer is a global enterprise with core compete...</td>\n",
       "      <td>Bayer</td>\n",
       "      <td>4.2</td>\n",
       "      <td>Bangalore</td>\n",
       "      <td>10000+ Employees</td>\n",
       "      <td>1863.0</td>\n",
       "      <td>Company - Private</td>\n",
       "      <td>...</td>\n",
       "      <td>0</td>\n",
       "      <td>485.0</td>\n",
       "      <td>158.0</td>\n",
       "      <td>0</td>\n",
       "      <td>0</td>\n",
       "      <td>0</td>\n",
       "      <td>0</td>\n",
       "      <td>0</td>\n",
       "      <td>Bayer</td>\n",
       "      <td>Bangalore</td>\n",
       "    </tr>\n",
       "    <tr>\n",
       "      <td>1</td>\n",
       "      <td>Data Scientist (5+ years experience)</td>\n",
       "      <td>₹390K - ₹750K (Glassdoor Est.)</td>\n",
       "      <td>Data Scientist</td>\n",
       "      <td>Canary Global Inc.’ builds cutting edge diagno...</td>\n",
       "      <td>BreathX Technologies Pvt Ltd</td>\n",
       "      <td>-1.0</td>\n",
       "      <td>Bangalore</td>\n",
       "      <td>Unknown</td>\n",
       "      <td>-1.0</td>\n",
       "      <td>Company - Public</td>\n",
       "      <td>...</td>\n",
       "      <td>750</td>\n",
       "      <td>570.0</td>\n",
       "      <td>-1.0</td>\n",
       "      <td>1</td>\n",
       "      <td>0</td>\n",
       "      <td>0</td>\n",
       "      <td>1</td>\n",
       "      <td>0</td>\n",
       "      <td>BreathX Technologies Pvt Ltd</td>\n",
       "      <td>Bangalore</td>\n",
       "    </tr>\n",
       "    <tr>\n",
       "      <td>2</td>\n",
       "      <td>Data Scientist</td>\n",
       "      <td>₹792K - 0 (Glassdoor Est.)</td>\n",
       "      <td>Data Scientist</td>\n",
       "      <td>About Swiss Re\\n\\nSwiss Re is one of the world...</td>\n",
       "      <td>Swiss Re</td>\n",
       "      <td>4.0</td>\n",
       "      <td>Bangalore</td>\n",
       "      <td>10000+ Employees</td>\n",
       "      <td>1863.0</td>\n",
       "      <td>Company - Public</td>\n",
       "      <td>...</td>\n",
       "      <td>0</td>\n",
       "      <td>396.0</td>\n",
       "      <td>158.0</td>\n",
       "      <td>0</td>\n",
       "      <td>1</td>\n",
       "      <td>0</td>\n",
       "      <td>0</td>\n",
       "      <td>1</td>\n",
       "      <td>Swiss Re</td>\n",
       "      <td>Bangalore</td>\n",
       "    </tr>\n",
       "    <tr>\n",
       "      <td>3</td>\n",
       "      <td>Business Analyst</td>\n",
       "      <td>₹388K - ₹590K (Glassdoor Est.)</td>\n",
       "      <td>Business Analyst</td>\n",
       "      <td>Business Analyst - Data Scientist-SDS002477\\nW...</td>\n",
       "      <td>Genpact</td>\n",
       "      <td>3.8</td>\n",
       "      <td>Calcutta</td>\n",
       "      <td>10000+ Employees</td>\n",
       "      <td>1997.0</td>\n",
       "      <td>Company - Public</td>\n",
       "      <td>...</td>\n",
       "      <td>590</td>\n",
       "      <td>489.0</td>\n",
       "      <td>24.0</td>\n",
       "      <td>0</td>\n",
       "      <td>0</td>\n",
       "      <td>0</td>\n",
       "      <td>0</td>\n",
       "      <td>0</td>\n",
       "      <td>Genpact</td>\n",
       "      <td>Calcutta</td>\n",
       "    </tr>\n",
       "    <tr>\n",
       "      <td>4</td>\n",
       "      <td>Data Engineer</td>\n",
       "      <td>₹496K - ₹885K (Glassdoor Est.)</td>\n",
       "      <td>Data Engineer</td>\n",
       "      <td>Overview\\n\\n\\nThe Intuit Data Engineering team...</td>\n",
       "      <td>Intuit</td>\n",
       "      <td>4.4</td>\n",
       "      <td>Bangalore</td>\n",
       "      <td>5001 to 10000 Employees</td>\n",
       "      <td>1983.0</td>\n",
       "      <td>Company - Public</td>\n",
       "      <td>...</td>\n",
       "      <td>885</td>\n",
       "      <td>690.5</td>\n",
       "      <td>38.0</td>\n",
       "      <td>0</td>\n",
       "      <td>0</td>\n",
       "      <td>0</td>\n",
       "      <td>0</td>\n",
       "      <td>0</td>\n",
       "      <td>Intuit</td>\n",
       "      <td>Bangalore</td>\n",
       "    </tr>\n",
       "  </tbody>\n",
       "</table>\n",
       "<p>5 rows × 24 columns</p>\n",
       "</div>"
      ],
      "text/plain": [
       "                              Job Title                 Salary Estimate  \\\n",
       "0                        Data Scientist      ₹970K - 0 (Glassdoor Est.)   \n",
       "1  Data Scientist (5+ years experience)  ₹390K - ₹750K (Glassdoor Est.)   \n",
       "2                        Data Scientist      ₹792K - 0 (Glassdoor Est.)   \n",
       "3                      Business Analyst  ₹388K - ₹590K (Glassdoor Est.)   \n",
       "4                         Data Engineer  ₹496K - ₹885K (Glassdoor Est.)   \n",
       "\n",
       "       Job Function                                    Job Description  \\\n",
       "0    Data Scientist  Bayer is a global enterprise with core compete...   \n",
       "1    Data Scientist  Canary Global Inc.’ builds cutting edge diagno...   \n",
       "2    Data Scientist  About Swiss Re\\n\\nSwiss Re is one of the world...   \n",
       "3  Business Analyst  Business Analyst - Data Scientist-SDS002477\\nW...   \n",
       "4     Data Engineer  Overview\\n\\n\\nThe Intuit Data Engineering team...   \n",
       "\n",
       "                   Company Name  Rating   Location                     Size  \\\n",
       "0                         Bayer     4.2  Bangalore         10000+ Employees   \n",
       "1  BreathX Technologies Pvt Ltd    -1.0  Bangalore                  Unknown   \n",
       "2                      Swiss Re     4.0  Bangalore         10000+ Employees   \n",
       "3                       Genpact     3.8   Calcutta         10000+ Employees   \n",
       "4                        Intuit     4.4  Bangalore  5001 to 10000 Employees   \n",
       "\n",
       "   Founded  Type of ownership  ... max_salary avg_salary    age  python_yn  \\\n",
       "0   1863.0  Company - Private  ...          0      485.0  158.0          0   \n",
       "1     -1.0   Company - Public  ...        750      570.0   -1.0          1   \n",
       "2   1863.0   Company - Public  ...          0      396.0  158.0          0   \n",
       "3   1997.0   Company - Public  ...        590      489.0   24.0          0   \n",
       "4   1983.0   Company - Public  ...        885      690.5   38.0          0   \n",
       "\n",
       "   R_yn  spark  aws  excel                   company_txt  job_state  \n",
       "0     0      0    0      0                         Bayer  Bangalore  \n",
       "1     0      0    1      0  BreathX Technologies Pvt Ltd  Bangalore  \n",
       "2     1      0    0      1                      Swiss Re  Bangalore  \n",
       "3     0      0    0      0                       Genpact   Calcutta  \n",
       "4     0      0    0      0                        Intuit  Bangalore  \n",
       "\n",
       "[5 rows x 24 columns]"
      ]
     },
     "execution_count": 4,
     "metadata": {},
     "output_type": "execute_result"
    }
   ],
   "source": [
    "df.head()"
   ]
  },
  {
   "cell_type": "code",
   "execution_count": 5,
   "metadata": {},
   "outputs": [
    {
     "data": {
      "text/plain": [
       "Index(['Job Title', 'Salary Estimate', 'Job Function', 'Job Description',\n",
       "       'Company Name', 'Rating', 'Location', 'Size', 'Founded',\n",
       "       'Type of ownership', 'Industry', 'Sector', 'Revenue', 'min_salary',\n",
       "       'max_salary', 'avg_salary', 'age', 'python_yn', 'R_yn', 'spark', 'aws',\n",
       "       'excel', 'company_txt', 'job_state'],\n",
       "      dtype='object')"
      ]
     },
     "execution_count": 5,
     "metadata": {},
     "output_type": "execute_result"
    }
   ],
   "source": [
    "df.columns"
   ]
  },
  {
   "cell_type": "code",
   "execution_count": 6,
   "metadata": {},
   "outputs": [],
   "source": [
    "def title_simplifer(title):\n",
    "    if 'data scientist' in title.lower():\n",
    "        return 'data scientist'\n",
    "    elif 'data engineer' in title.lower():\n",
    "        return 'data engineer'\n",
    "    elif 'analyst' in title.lower():\n",
    "        return 'analyst'\n",
    "    elif 'machine learning' in title.lower():\n",
    "        return 'mle'\n",
    "    elif 'manager' in title.lower():\n",
    "        return 'manager'\n",
    "    elif 'director' in title.lower():\n",
    "        return 'director'\n",
    "    else:\n",
    "        return 'na'\n",
    "    \n",
    "def seniority(title):\n",
    "    if 'sr' in title.lower() or 'senior' in title.lower() or 'sr.' in title.lower() or 'lead' in title.lower() or 'principal' in title.lower():\n",
    "        return 'senior'\n",
    "    elif 'jr' in title.lower() or 'jr.' in title.lower() or 'associate' in title.lower():\n",
    "        return 'jr'\n",
    "    else:\n",
    "        return 'na'\n",
    "    \n",
    "## job title and seniority"
   ]
  },
  {
   "cell_type": "code",
   "execution_count": 7,
   "metadata": {},
   "outputs": [],
   "source": [
    "df['job_simp'] = df['Job Title'].apply(title_simplifer)"
   ]
  },
  {
   "cell_type": "code",
   "execution_count": 8,
   "metadata": {},
   "outputs": [
    {
     "data": {
      "text/plain": [
       "data scientist    73\n",
       "data engineer     31\n",
       "analyst            5\n",
       "na                 5\n",
       "mle                4\n",
       "Name: job_simp, dtype: int64"
      ]
     },
     "execution_count": 8,
     "metadata": {},
     "output_type": "execute_result"
    }
   ],
   "source": [
    "df.job_simp.value_counts()"
   ]
  },
  {
   "cell_type": "code",
   "execution_count": 9,
   "metadata": {},
   "outputs": [
    {
     "data": {
      "text/plain": [
       "na        106\n",
       "senior      9\n",
       "jr          3\n",
       "Name: seniority, dtype: int64"
      ]
     },
     "execution_count": 9,
     "metadata": {},
     "output_type": "execute_result"
    }
   ],
   "source": [
    "df['seniority'] = df['Job Title'].apply(seniority)\n",
    "df.seniority.value_counts()"
   ]
  },
  {
   "cell_type": "code",
   "execution_count": 10,
   "metadata": {},
   "outputs": [
    {
     "data": {
      "text/plain": [
       "0       807\n",
       "1       941\n",
       "2      2375\n",
       "3       609\n",
       "4       392\n",
       "       ... \n",
       "113     739\n",
       "114    1234\n",
       "115     761\n",
       "116     514\n",
       "117      87\n",
       "Name: desc_len, Length: 118, dtype: int64"
      ]
     },
     "execution_count": 10,
     "metadata": {},
     "output_type": "execute_result"
    }
   ],
   "source": [
    "# Job description length\n",
    "df['desc_len'] = df['Job Description'].apply(lambda x: len(x))\n",
    "df['desc_len']"
   ]
  },
  {
   "cell_type": "code",
   "execution_count": 11,
   "metadata": {},
   "outputs": [
    {
     "data": {
      "text/plain": [
       "0                                     Bayer\n",
       "1              BreathX Technologies Pvt Ltd\n",
       "2                                  Swiss Re\n",
       "3                                   Genpact\n",
       "4                                    Intuit\n",
       "                       ...                 \n",
       "113              Moving walls India Pvt ltd\n",
       "114       Lera Technologies Private Limited\n",
       "115    Vitestork Consulting Private Limited\n",
       "116       Lera Technologies Private Limited\n",
       "117                                  BPrise\n",
       "Name: Company Name, Length: 118, dtype: object"
      ]
     },
     "execution_count": 11,
     "metadata": {},
     "output_type": "execute_result"
    }
   ],
   "source": [
    "df['Company Name']"
   ]
  },
  {
   "cell_type": "code",
   "execution_count": 12,
   "metadata": {},
   "outputs": [
    {
     "data": {
      "text/html": [
       "<div>\n",
       "<style scoped>\n",
       "    .dataframe tbody tr th:only-of-type {\n",
       "        vertical-align: middle;\n",
       "    }\n",
       "\n",
       "    .dataframe tbody tr th {\n",
       "        vertical-align: top;\n",
       "    }\n",
       "\n",
       "    .dataframe thead th {\n",
       "        text-align: right;\n",
       "    }\n",
       "</style>\n",
       "<table border=\"1\" class=\"dataframe\">\n",
       "  <thead>\n",
       "    <tr style=\"text-align: right;\">\n",
       "      <th></th>\n",
       "      <th>Rating</th>\n",
       "      <th>Founded</th>\n",
       "      <th>min_salary</th>\n",
       "      <th>max_salary</th>\n",
       "      <th>avg_salary</th>\n",
       "      <th>age</th>\n",
       "      <th>python_yn</th>\n",
       "      <th>R_yn</th>\n",
       "      <th>spark</th>\n",
       "      <th>aws</th>\n",
       "      <th>excel</th>\n",
       "      <th>desc_len</th>\n",
       "    </tr>\n",
       "  </thead>\n",
       "  <tbody>\n",
       "    <tr>\n",
       "      <td>count</td>\n",
       "      <td>118.000000</td>\n",
       "      <td>117.000000</td>\n",
       "      <td>118.000000</td>\n",
       "      <td>118.000000</td>\n",
       "      <td>118.000000</td>\n",
       "      <td>117.000000</td>\n",
       "      <td>118.000000</td>\n",
       "      <td>118.000000</td>\n",
       "      <td>118.000000</td>\n",
       "      <td>118.000000</td>\n",
       "      <td>118.000000</td>\n",
       "      <td>118.000000</td>\n",
       "    </tr>\n",
       "    <tr>\n",
       "      <td>mean</td>\n",
       "      <td>3.794915</td>\n",
       "      <td>1709.162393</td>\n",
       "      <td>498.381356</td>\n",
       "      <td>711.644068</td>\n",
       "      <td>605.012712</td>\n",
       "      <td>35.188034</td>\n",
       "      <td>0.194915</td>\n",
       "      <td>0.220339</td>\n",
       "      <td>0.059322</td>\n",
       "      <td>0.101695</td>\n",
       "      <td>0.093220</td>\n",
       "      <td>1111.618644</td>\n",
       "    </tr>\n",
       "    <tr>\n",
       "      <td>std</td>\n",
       "      <td>1.111236</td>\n",
       "      <td>685.157520</td>\n",
       "      <td>206.895693</td>\n",
       "      <td>256.064145</td>\n",
       "      <td>163.996241</td>\n",
       "      <td>48.417532</td>\n",
       "      <td>0.397825</td>\n",
       "      <td>0.416243</td>\n",
       "      <td>0.237234</td>\n",
       "      <td>0.303536</td>\n",
       "      <td>0.291981</td>\n",
       "      <td>1104.846038</td>\n",
       "    </tr>\n",
       "    <tr>\n",
       "      <td>min</td>\n",
       "      <td>-1.000000</td>\n",
       "      <td>-1.000000</td>\n",
       "      <td>114.000000</td>\n",
       "      <td>0.000000</td>\n",
       "      <td>200.000000</td>\n",
       "      <td>-1.000000</td>\n",
       "      <td>0.000000</td>\n",
       "      <td>0.000000</td>\n",
       "      <td>0.000000</td>\n",
       "      <td>0.000000</td>\n",
       "      <td>0.000000</td>\n",
       "      <td>87.000000</td>\n",
       "    </tr>\n",
       "    <tr>\n",
       "      <td>25%</td>\n",
       "      <td>3.700000</td>\n",
       "      <td>1926.000000</td>\n",
       "      <td>359.250000</td>\n",
       "      <td>602.000000</td>\n",
       "      <td>487.000000</td>\n",
       "      <td>7.000000</td>\n",
       "      <td>0.000000</td>\n",
       "      <td>0.000000</td>\n",
       "      <td>0.000000</td>\n",
       "      <td>0.000000</td>\n",
       "      <td>0.000000</td>\n",
       "      <td>610.750000</td>\n",
       "    </tr>\n",
       "    <tr>\n",
       "      <td>50%</td>\n",
       "      <td>4.100000</td>\n",
       "      <td>1996.000000</td>\n",
       "      <td>466.000000</td>\n",
       "      <td>750.000000</td>\n",
       "      <td>591.000000</td>\n",
       "      <td>17.000000</td>\n",
       "      <td>0.000000</td>\n",
       "      <td>0.000000</td>\n",
       "      <td>0.000000</td>\n",
       "      <td>0.000000</td>\n",
       "      <td>0.000000</td>\n",
       "      <td>813.500000</td>\n",
       "    </tr>\n",
       "    <tr>\n",
       "      <td>75%</td>\n",
       "      <td>4.300000</td>\n",
       "      <td>2009.000000</td>\n",
       "      <td>607.500000</td>\n",
       "      <td>896.250000</td>\n",
       "      <td>691.625000</td>\n",
       "      <td>42.000000</td>\n",
       "      <td>0.000000</td>\n",
       "      <td>0.000000</td>\n",
       "      <td>0.000000</td>\n",
       "      <td>0.000000</td>\n",
       "      <td>0.000000</td>\n",
       "      <td>1168.250000</td>\n",
       "    </tr>\n",
       "    <tr>\n",
       "      <td>max</td>\n",
       "      <td>5.000000</td>\n",
       "      <td>2020.000000</td>\n",
       "      <td>1000.000000</td>\n",
       "      <td>1156.000000</td>\n",
       "      <td>1037.000000</td>\n",
       "      <td>222.000000</td>\n",
       "      <td>1.000000</td>\n",
       "      <td>1.000000</td>\n",
       "      <td>1.000000</td>\n",
       "      <td>1.000000</td>\n",
       "      <td>1.000000</td>\n",
       "      <td>7514.000000</td>\n",
       "    </tr>\n",
       "  </tbody>\n",
       "</table>\n",
       "</div>"
      ],
      "text/plain": [
       "           Rating      Founded   min_salary   max_salary   avg_salary  \\\n",
       "count  118.000000   117.000000   118.000000   118.000000   118.000000   \n",
       "mean     3.794915  1709.162393   498.381356   711.644068   605.012712   \n",
       "std      1.111236   685.157520   206.895693   256.064145   163.996241   \n",
       "min     -1.000000    -1.000000   114.000000     0.000000   200.000000   \n",
       "25%      3.700000  1926.000000   359.250000   602.000000   487.000000   \n",
       "50%      4.100000  1996.000000   466.000000   750.000000   591.000000   \n",
       "75%      4.300000  2009.000000   607.500000   896.250000   691.625000   \n",
       "max      5.000000  2020.000000  1000.000000  1156.000000  1037.000000   \n",
       "\n",
       "              age   python_yn        R_yn       spark         aws       excel  \\\n",
       "count  117.000000  118.000000  118.000000  118.000000  118.000000  118.000000   \n",
       "mean    35.188034    0.194915    0.220339    0.059322    0.101695    0.093220   \n",
       "std     48.417532    0.397825    0.416243    0.237234    0.303536    0.291981   \n",
       "min     -1.000000    0.000000    0.000000    0.000000    0.000000    0.000000   \n",
       "25%      7.000000    0.000000    0.000000    0.000000    0.000000    0.000000   \n",
       "50%     17.000000    0.000000    0.000000    0.000000    0.000000    0.000000   \n",
       "75%     42.000000    0.000000    0.000000    0.000000    0.000000    0.000000   \n",
       "max    222.000000    1.000000    1.000000    1.000000    1.000000    1.000000   \n",
       "\n",
       "          desc_len  \n",
       "count   118.000000  \n",
       "mean   1111.618644  \n",
       "std    1104.846038  \n",
       "min      87.000000  \n",
       "25%     610.750000  \n",
       "50%     813.500000  \n",
       "75%    1168.250000  \n",
       "max    7514.000000  "
      ]
     },
     "execution_count": 12,
     "metadata": {},
     "output_type": "execute_result"
    }
   ],
   "source": [
    "df.describe()"
   ]
  },
  {
   "cell_type": "code",
   "execution_count": 13,
   "metadata": {},
   "outputs": [
    {
     "data": {
      "text/plain": [
       "Index(['Job Title', 'Salary Estimate', 'Job Function', 'Job Description',\n",
       "       'Company Name', 'Rating', 'Location', 'Size', 'Founded',\n",
       "       'Type of ownership', 'Industry', 'Sector', 'Revenue', 'min_salary',\n",
       "       'max_salary', 'avg_salary', 'age', 'python_yn', 'R_yn', 'spark', 'aws',\n",
       "       'excel', 'company_txt', 'job_state', 'job_simp', 'seniority',\n",
       "       'desc_len'],\n",
       "      dtype='object')"
      ]
     },
     "execution_count": 13,
     "metadata": {},
     "output_type": "execute_result"
    }
   ],
   "source": [
    "df.columns"
   ]
  },
  {
   "cell_type": "code",
   "execution_count": 14,
   "metadata": {},
   "outputs": [
    {
     "data": {
      "text/plain": [
       "<matplotlib.axes._subplots.AxesSubplot at 0x1915be7c988>"
      ]
     },
     "execution_count": 14,
     "metadata": {},
     "output_type": "execute_result"
    },
    {
     "data": {
      "image/png": "[encoded data removed]",
      "text/plain": [
       "<Figure size 432x288 with 1 Axes>"
      ]
     },
     "metadata": {
      "needs_background": "light"
     },
     "output_type": "display_data"
    }
   ],
   "source": [
    "df.Rating.hist()"
   ]
  },
  {
   "cell_type": "code",
   "execution_count": 15,
   "metadata": {},
   "outputs": [
    {
     "data": {
      "text/plain": [
       "<matplotlib.axes._subplots.AxesSubplot at 0x1915c1fd588>"
      ]
     },
     "execution_count": 15,
     "metadata": {},
     "output_type": "execute_result"
    },
    {
     "data": {
      "image/png": "[encoded data removed]",
      "text/plain": [
       "<Figure size 432x288 with 1 Axes>"
      ]
     },
     "metadata": {
      "needs_background": "light"
     },
     "output_type": "display_data"
    }
   ],
   "source": [
    "df.avg_salary.hist()"
   ]
  },
  {
   "cell_type": "code",
   "execution_count": 16,
   "metadata": {},
   "outputs": [
    {
     "data": {
      "text/plain": [
       "<matplotlib.axes._subplots.AxesSubplot at 0x1915c2840c8>"
      ]
     },
     "execution_count": 16,
     "metadata": {},
     "output_type": "execute_result"
    },
    {
     "data": {
      "image/png": "[encoded data removed]",
      "text/plain": [
       "<Figure size 432x288 with 1 Axes>"
      ]
     },
     "metadata": {
      "needs_background": "light"
     },
     "output_type": "display_data"
    }
   ],
   "source": [
    "df.age.hist()"
   ]
  },
  {
   "cell_type": "code",
   "execution_count": 17,
   "metadata": {},
   "outputs": [
    {
     "data": {
      "text/plain": [
       "<matplotlib.axes._subplots.AxesSubplot at 0x1915c30a8c8>"
      ]
     },
     "execution_count": 17,
     "metadata": {},
     "output_type": "execute_result"
    },
    {
     "data": {
      "image/png": "[encoded data removed]",
      "text/plain": [
       "<Figure size 432x288 with 1 Axes>"
      ]
     },
     "metadata": {
      "needs_background": "light"
     },
     "output_type": "display_data"
    }
   ],
   "source": [
    "df.desc_len.hist()"
   ]
  },
  {
   "cell_type": "code",
   "execution_count": 18,
   "metadata": {},
   "outputs": [
    {
     "data": {
      "text/plain": [
       "<matplotlib.axes._subplots.AxesSubplot at 0x1915c398b08>"
      ]
     },
     "execution_count": 18,
     "metadata": {},
     "output_type": "execute_result"
    },
    {
     "data": {
      "image/png": "[encoded data removed]",
      "text/plain": [
       "<Figure size 432x288 with 1 Axes>"
      ]
     },
     "metadata": {
      "needs_background": "light"
     },
     "output_type": "display_data"
    }
   ],
   "source": [
    "#^^^^ the above was all \"histogram\"\n",
    "df.boxplot(column = ['age','avg_salary','Rating'])\n",
    "########### now for boxplot()"
   ]
  },
  {
   "cell_type": "code",
   "execution_count": 19,
   "metadata": {},
   "outputs": [
    {
     "data": {
      "text/plain": [
       "<matplotlib.axes._subplots.AxesSubplot at 0x1915c439708>"
      ]
     },
     "execution_count": 19,
     "metadata": {},
     "output_type": "execute_result"
    },
    {
     "data": {
      "image/png": "[encoded data removed]",
      "text/plain": [
       "<Figure size 432x288 with 1 Axes>"
      ]
     },
     "metadata": {
      "needs_background": "light"
     },
     "output_type": "display_data"
    }
   ],
   "source": [
    "df.boxplot(column = 'Rating')"
   ]
  },
  {
   "cell_type": "code",
   "execution_count": 20,
   "metadata": {},
   "outputs": [
    {
     "data": {
      "text/plain": [
       "<matplotlib.axes._subplots.AxesSubplot at 0x1915c4a5c08>"
      ]
     },
     "execution_count": 20,
     "metadata": {},
     "output_type": "execute_result"
    },
    {
     "data": {
      "image/png": "[encoded data removed]",
      "text/plain": [
       "<Figure size 432x288 with 1 Axes>"
      ]
     },
     "metadata": {
      "needs_background": "light"
     },
     "output_type": "display_data"
    }
   ],
   "source": [
    "df.boxplot(column = 'avg_salary')"
   ]
  },
  {
   "cell_type": "code",
   "execution_count": 21,
   "metadata": {},
   "outputs": [],
   "source": [
    "### correlation now"
   ]
  },
  {
   "cell_type": "code",
   "execution_count": 22,
   "metadata": {},
   "outputs": [
    {
     "data": {
      "text/html": [
       "<div>\n",
       "<style scoped>\n",
       "    .dataframe tbody tr th:only-of-type {\n",
       "        vertical-align: middle;\n",
       "    }\n",
       "\n",
       "    .dataframe tbody tr th {\n",
       "        vertical-align: top;\n",
       "    }\n",
       "\n",
       "    .dataframe thead th {\n",
       "        text-align: right;\n",
       "    }\n",
       "</style>\n",
       "<table border=\"1\" class=\"dataframe\">\n",
       "  <thead>\n",
       "    <tr style=\"text-align: right;\">\n",
       "      <th></th>\n",
       "      <th>age</th>\n",
       "      <th>avg_salary</th>\n",
       "      <th>Rating</th>\n",
       "      <th>desc_len</th>\n",
       "    </tr>\n",
       "  </thead>\n",
       "  <tbody>\n",
       "    <tr>\n",
       "      <td>age</td>\n",
       "      <td>1.000000</td>\n",
       "      <td>0.208595</td>\n",
       "      <td>0.110501</td>\n",
       "      <td>0.115518</td>\n",
       "    </tr>\n",
       "    <tr>\n",
       "      <td>avg_salary</td>\n",
       "      <td>0.208595</td>\n",
       "      <td>1.000000</td>\n",
       "      <td>-0.018823</td>\n",
       "      <td>-0.017098</td>\n",
       "    </tr>\n",
       "    <tr>\n",
       "      <td>Rating</td>\n",
       "      <td>0.110501</td>\n",
       "      <td>-0.018823</td>\n",
       "      <td>1.000000</td>\n",
       "      <td>0.012891</td>\n",
       "    </tr>\n",
       "    <tr>\n",
       "      <td>desc_len</td>\n",
       "      <td>0.115518</td>\n",
       "      <td>-0.017098</td>\n",
       "      <td>0.012891</td>\n",
       "      <td>1.000000</td>\n",
       "    </tr>\n",
       "  </tbody>\n",
       "</table>\n",
       "</div>"
      ],
      "text/plain": [
       "                 age  avg_salary    Rating  desc_len\n",
       "age         1.000000    0.208595  0.110501  0.115518\n",
       "avg_salary  0.208595    1.000000 -0.018823 -0.017098\n",
       "Rating      0.110501   -0.018823  1.000000  0.012891\n",
       "desc_len    0.115518   -0.017098  0.012891  1.000000"
      ]
     },
     "execution_count": 22,
     "metadata": {},
     "output_type": "execute_result"
    }
   ],
   "source": [
    "df[['age','avg_salary','Rating','desc_len']].corr()"
   ]
  },
  {
   "cell_type": "code",
   "execution_count": 23,
   "metadata": {},
   "outputs": [],
   "source": [
    "##### heatmap"
   ]
  },
  {
   "cell_type": "code",
   "execution_count": 24,
   "metadata": {},
   "outputs": [
    {
     "data": {
      "text/plain": [
       "<matplotlib.axes._subplots.AxesSubplot at 0x1915c56b808>"
      ]
     },
     "execution_count": 24,
     "metadata": {},
     "output_type": "execute_result"
    },
    {
     "data": {
      "image/png": "[encoded data removed]",
      "text/plain": [
       "<Figure size 432x288 with 2 Axes>"
      ]
     },
     "metadata": {
      "needs_background": "light"
     },
     "output_type": "display_data"
    }
   ],
   "source": [
    "cmap = sns.diverging_palette(200, 10, as_cmap = True)\n",
    "sns.heatmap(df[['age','avg_salary','Rating','desc_len']].corr(),vmax=.3, center=0,cmap = cmap, square=True,\n",
    "           linewidths=.5, cbar_kws={\"shrink\": .5})"
   ]
  },
  {
   "cell_type": "code",
   "execution_count": 25,
   "metadata": {},
   "outputs": [
    {
     "data": {
      "text/plain": [
       "Index(['Job Title', 'Salary Estimate', 'Job Function', 'Job Description',\n",
       "       'Company Name', 'Rating', 'Location', 'Size', 'Founded',\n",
       "       'Type of ownership', 'Industry', 'Sector', 'Revenue', 'min_salary',\n",
       "       'max_salary', 'avg_salary', 'age', 'python_yn', 'R_yn', 'spark', 'aws',\n",
       "       'excel', 'company_txt', 'job_state', 'job_simp', 'seniority',\n",
       "       'desc_len'],\n",
       "      dtype='object')"
      ]
     },
     "execution_count": 25,
     "metadata": {},
     "output_type": "execute_result"
    }
   ],
   "source": [
    "df.columns"
   ]
  },
  {
   "cell_type": "code",
   "execution_count": 26,
   "metadata": {},
   "outputs": [],
   "source": [
    "df_cat = df[['Location','Size','Type of ownership','Industry','Sector','Revenue','Company Name','job_state','python_yn', \n",
    "             'R_yn', 'spark', 'aws', 'excel', 'job_simp', 'seniority']]"
   ]
  },
  {
   "cell_type": "code",
   "execution_count": 27,
   "metadata": {},
   "outputs": [
    {
     "name": "stdout",
     "output_type": "stream",
     "text": [
      "Graph for Location: total = 19\n"
     ]
    },
    {
     "data": {
      "image/png": "[encoded data removed]",
      "text/plain": [
       "<Figure size 432x288 with 1 Axes>"
      ]
     },
     "metadata": {
      "needs_background": "light"
     },
     "output_type": "display_data"
    },
    {
     "name": "stdout",
     "output_type": "stream",
     "text": [
      "Graph for Size: total = 9\n"
     ]
    },
    {
     "data": {
      "image/png": "[encoded data removed]",
      "text/plain": [
       "<Figure size 432x288 with 1 Axes>"
      ]
     },
     "metadata": {
      "needs_background": "light"
     },
     "output_type": "display_data"
    },
    {
     "name": "stdout",
     "output_type": "stream",
     "text": [
      "Graph for Type of ownership: total = 5\n"
     ]
    },
    {
     "data": {
      "image/png": "[encoded data removed]",
      "text/plain": [
       "<Figure size 432x288 with 1 Axes>"
      ]
     },
     "metadata": {
      "needs_background": "light"
     },
     "output_type": "display_data"
    },
    {
     "name": "stdout",
     "output_type": "stream",
     "text": [
      "Graph for Industry: total = 27\n"
     ]
    },
    {
     "data": {
      "image/png": "[encoded data removed]",
      "text/plain": [
       "<Figure size 432x288 with 1 Axes>"
      ]
     },
     "metadata": {
      "needs_background": "light"
     },
     "output_type": "display_data"
    },
    {
     "name": "stdout",
     "output_type": "stream",
     "text": [
      "Graph for Sector: total = 11\n"
     ]
    },
    {
     "data": {
      "image/png": "[encoded data removed]",
      "text/plain": [
       "<Figure size 432x288 with 1 Axes>"
      ]
     },
     "metadata": {
      "needs_background": "light"
     },
     "output_type": "display_data"
    },
    {
     "name": "stdout",
     "output_type": "stream",
     "text": [
      "Graph for Revenue: total = 14\n"
     ]
    },
    {
     "data": {
      "image/png": "[encoded data removed]",
      "text/plain": [
       "<Figure size 432x288 with 1 Axes>"
      ]
     },
     "metadata": {
      "needs_background": "light"
     },
     "output_type": "display_data"
    },
    {
     "name": "stdout",
     "output_type": "stream",
     "text": [
      "Graph for Company Name: total = 101\n"
     ]
    },
    {
     "data": {
      "image/png": "[encoded data removed]",
      "text/plain": [
       "<Figure size 432x288 with 1 Axes>"
      ]
     },
     "metadata": {
      "needs_background": "light"
     },
     "output_type": "display_data"
    },
    {
     "name": "stdout",
     "output_type": "stream",
     "text": [
      "Graph for job_state: total = 19\n"
     ]
    },
    {
     "data": {
      "image/png": "[encoded data removed]",
      "text/plain": [
       "<Figure size 432x288 with 1 Axes>"
      ]
     },
     "metadata": {
      "needs_background": "light"
     },
     "output_type": "display_data"
    },
    {
     "name": "stdout",
     "output_type": "stream",
     "text": [
      "Graph for python_yn: total = 2\n"
     ]
    },
    {
     "data": {
      "image/png": "[encoded data removed]",
      "text/plain": [
       "<Figure size 432x288 with 1 Axes>"
      ]
     },
     "metadata": {
      "needs_background": "light"
     },
     "output_type": "display_data"
    },
    {
     "name": "stdout",
     "output_type": "stream",
     "text": [
      "Graph for R_yn: total = 2\n"
     ]
    },
    {
     "data": {
      "image/png": "[encoded data removed]",
      "text/plain": [
       "<Figure size 432x288 with 1 Axes>"
      ]
     },
     "metadata": {
      "needs_background": "light"
     },
     "output_type": "display_data"
    },
    {
     "name": "stdout",
     "output_type": "stream",
     "text": [
      "Graph for spark: total = 2\n"
     ]
    },
    {
     "data": {
      "image/png": "[encoded data removed]",
      "text/plain": [
       "<Figure size 432x288 with 1 Axes>"
      ]
     },
     "metadata": {
      "needs_background": "light"
     },
     "output_type": "display_data"
    },
    {
     "name": "stdout",
     "output_type": "stream",
     "text": [
      "Graph for aws: total = 2\n"
     ]
    },
    {
     "data": {
      "image/png": "[encoded data removed]",
      "text/plain": [
       "<Figure size 432x288 with 1 Axes>"
      ]
     },
     "metadata": {
      "needs_background": "light"
     },
     "output_type": "display_data"
    },
    {
     "name": "stdout",
     "output_type": "stream",
     "text": [
      "Graph for excel: total = 2\n"
     ]
    },
    {
     "data": {
      "image/png": "[encoded data removed]",
      "text/plain": [
       "<Figure size 432x288 with 1 Axes>"
      ]
     },
     "metadata": {
      "needs_background": "light"
     },
     "output_type": "display_data"
    },
    {
     "name": "stdout",
     "output_type": "stream",
     "text": [
      "Graph for job_simp: total = 5\n"
     ]
    },
    {
     "data": {
      "image/png": "[encoded data removed]",
      "text/plain": [
       "<Figure size 432x288 with 1 Axes>"
      ]
     },
     "metadata": {
      "needs_background": "light"
     },
     "output_type": "display_data"
    },
    {
     "name": "stdout",
     "output_type": "stream",
     "text": [
      "Graph for seniority: total = 3\n"
     ]
    },
    {
     "data": {
      "image/png": "[encoded data removed]",
      "text/plain": [
       "<Figure size 432x288 with 1 Axes>"
      ]
     },
     "metadata": {
      "needs_background": "light"
     },
     "output_type": "display_data"
    }
   ],
   "source": [
    "for i in df_cat.columns:\n",
    "    cat_num = df_cat[i].value_counts()\n",
    "    print(\"Graph for %s: total = %d\" % (i, len(cat_num)))\n",
    "    chart = sns.barplot(x=cat_num.index, y=cat_num)\n",
    "    chart.set_xticklabels(chart.get_xticklabels(), rotation = 90)\n",
    "    plt.show()"
   ]
  },
  {
   "cell_type": "code",
   "execution_count": 28,
   "metadata": {},
   "outputs": [
    {
     "name": "stdout",
     "output_type": "stream",
     "text": [
      "graph for Location: total = 19\n"
     ]
    },
    {
     "data": {
      "image/png": "[encoded data removed]",
      "text/plain": [
       "<Figure size 432x288 with 1 Axes>"
      ]
     },
     "metadata": {
      "needs_background": "light"
     },
     "output_type": "display_data"
    },
    {
     "name": "stdout",
     "output_type": "stream",
     "text": [
      "graph for Company Name: total = 20\n"
     ]
    },
    {
     "data": {
      "image/png": "[encoded data removed]",
      "text/plain": [
       "<Figure size 432x288 with 1 Axes>"
      ]
     },
     "metadata": {
      "needs_background": "light"
     },
     "output_type": "display_data"
    },
    {
     "name": "stdout",
     "output_type": "stream",
     "text": [
      "graph for job_state: total = 19\n"
     ]
    },
    {
     "data": {
      "image/png": "[encoded data removed]",
      "text/plain": [
       "<Figure size 432x288 with 1 Axes>"
      ]
     },
     "metadata": {
      "needs_background": "light"
     },
     "output_type": "display_data"
    }
   ],
   "source": [
    "for i in df_cat[['Location','Company Name','job_state']]:\n",
    "    cat_num = df_cat[i].value_counts()[:20]\n",
    "    print(\"graph for %s: total = %d\" % (i, len(cat_num)))\n",
    "    chart = sns.barplot(x=cat_num.index, y=cat_num)\n",
    "    chart.set_xticklabels(chart.get_xticklabels(), rotation = 90)\n",
    "    plt.show()"
   ]
  },
  {
   "cell_type": "code",
   "execution_count": 29,
   "metadata": {},
   "outputs": [],
   "source": [
    "####### Pivot table"
   ]
  },
  {
   "cell_type": "code",
   "execution_count": 30,
   "metadata": {},
   "outputs": [
    {
     "data": {
      "text/html": [
       "<div>\n",
       "<style scoped>\n",
       "    .dataframe tbody tr th:only-of-type {\n",
       "        vertical-align: middle;\n",
       "    }\n",
       "\n",
       "    .dataframe tbody tr th {\n",
       "        vertical-align: top;\n",
       "    }\n",
       "\n",
       "    .dataframe thead th {\n",
       "        text-align: right;\n",
       "    }\n",
       "</style>\n",
       "<table border=\"1\" class=\"dataframe\">\n",
       "  <thead>\n",
       "    <tr style=\"text-align: right;\">\n",
       "      <th></th>\n",
       "      <th>avg_salary</th>\n",
       "    </tr>\n",
       "    <tr>\n",
       "      <th>job_simp</th>\n",
       "      <th></th>\n",
       "    </tr>\n",
       "  </thead>\n",
       "  <tbody>\n",
       "    <tr>\n",
       "      <td>analyst</td>\n",
       "      <td>605.900000</td>\n",
       "    </tr>\n",
       "    <tr>\n",
       "      <td>data engineer</td>\n",
       "      <td>601.177419</td>\n",
       "    </tr>\n",
       "    <tr>\n",
       "      <td>data scientist</td>\n",
       "      <td>630.931507</td>\n",
       "    </tr>\n",
       "    <tr>\n",
       "      <td>mle</td>\n",
       "      <td>460.125000</td>\n",
       "    </tr>\n",
       "    <tr>\n",
       "      <td>na</td>\n",
       "      <td>365.400000</td>\n",
       "    </tr>\n",
       "  </tbody>\n",
       "</table>\n",
       "</div>"
      ],
      "text/plain": [
       "                avg_salary\n",
       "job_simp                  \n",
       "analyst         605.900000\n",
       "data engineer   601.177419\n",
       "data scientist  630.931507\n",
       "mle             460.125000\n",
       "na              365.400000"
      ]
     },
     "execution_count": 30,
     "metadata": {},
     "output_type": "execute_result"
    }
   ],
   "source": [
    "pd.pivot_table(df, index = 'job_simp', values = 'avg_salary')"
   ]
  },
  {
   "cell_type": "code",
   "execution_count": 31,
   "metadata": {},
   "outputs": [
    {
     "data": {
      "text/html": [
       "<div>\n",
       "<style scoped>\n",
       "    .dataframe tbody tr th:only-of-type {\n",
       "        vertical-align: middle;\n",
       "    }\n",
       "\n",
       "    .dataframe tbody tr th {\n",
       "        vertical-align: top;\n",
       "    }\n",
       "\n",
       "    .dataframe thead th {\n",
       "        text-align: right;\n",
       "    }\n",
       "</style>\n",
       "<table border=\"1\" class=\"dataframe\">\n",
       "  <thead>\n",
       "    <tr style=\"text-align: right;\">\n",
       "      <th></th>\n",
       "      <th></th>\n",
       "      <th>avg_salary</th>\n",
       "    </tr>\n",
       "    <tr>\n",
       "      <th>job_simp</th>\n",
       "      <th>seniority</th>\n",
       "      <th></th>\n",
       "    </tr>\n",
       "  </thead>\n",
       "  <tbody>\n",
       "    <tr>\n",
       "      <td rowspan=\"2\" valign=\"top\">analyst</td>\n",
       "      <td>jr</td>\n",
       "      <td>571.000000</td>\n",
       "    </tr>\n",
       "    <tr>\n",
       "      <td>na</td>\n",
       "      <td>614.625000</td>\n",
       "    </tr>\n",
       "    <tr>\n",
       "      <td rowspan=\"2\" valign=\"top\">data engineer</td>\n",
       "      <td>na</td>\n",
       "      <td>608.431034</td>\n",
       "    </tr>\n",
       "    <tr>\n",
       "      <td>senior</td>\n",
       "      <td>496.000000</td>\n",
       "    </tr>\n",
       "    <tr>\n",
       "      <td rowspan=\"3\" valign=\"top\">data scientist</td>\n",
       "      <td>jr</td>\n",
       "      <td>592.000000</td>\n",
       "    </tr>\n",
       "    <tr>\n",
       "      <td>na</td>\n",
       "      <td>615.848485</td>\n",
       "    </tr>\n",
       "    <tr>\n",
       "      <td>senior</td>\n",
       "      <td>845.600000</td>\n",
       "    </tr>\n",
       "    <tr>\n",
       "      <td>mle</td>\n",
       "      <td>na</td>\n",
       "      <td>460.125000</td>\n",
       "    </tr>\n",
       "    <tr>\n",
       "      <td rowspan=\"2\" valign=\"top\">na</td>\n",
       "      <td>na</td>\n",
       "      <td>475.666667</td>\n",
       "    </tr>\n",
       "    <tr>\n",
       "      <td>senior</td>\n",
       "      <td>200.000000</td>\n",
       "    </tr>\n",
       "  </tbody>\n",
       "</table>\n",
       "</div>"
      ],
      "text/plain": [
       "                          avg_salary\n",
       "job_simp       seniority            \n",
       "analyst        jr         571.000000\n",
       "               na         614.625000\n",
       "data engineer  na         608.431034\n",
       "               senior     496.000000\n",
       "data scientist jr         592.000000\n",
       "               na         615.848485\n",
       "               senior     845.600000\n",
       "mle            na         460.125000\n",
       "na             na         475.666667\n",
       "               senior     200.000000"
      ]
     },
     "execution_count": 31,
     "metadata": {},
     "output_type": "execute_result"
    }
   ],
   "source": [
    "pd.pivot_table(df, index = ['job_simp','seniority'], values = 'avg_salary')"
   ]
  },
  {
   "cell_type": "code",
   "execution_count": 32,
   "metadata": {},
   "outputs": [
    {
     "data": {
      "text/html": [
       "<div>\n",
       "<style scoped>\n",
       "    .dataframe tbody tr th:only-of-type {\n",
       "        vertical-align: middle;\n",
       "    }\n",
       "\n",
       "    .dataframe tbody tr th {\n",
       "        vertical-align: top;\n",
       "    }\n",
       "\n",
       "    .dataframe thead th {\n",
       "        text-align: right;\n",
       "    }\n",
       "</style>\n",
       "<table border=\"1\" class=\"dataframe\">\n",
       "  <thead>\n",
       "    <tr style=\"text-align: right;\">\n",
       "      <th></th>\n",
       "      <th>avg_salary</th>\n",
       "    </tr>\n",
       "    <tr>\n",
       "      <th>Location</th>\n",
       "      <th></th>\n",
       "    </tr>\n",
       "  </thead>\n",
       "  <tbody>\n",
       "    <tr>\n",
       "      <td>Gurgaon</td>\n",
       "      <td>695.416667</td>\n",
       "    </tr>\n",
       "    <tr>\n",
       "      <td>Panchkula</td>\n",
       "      <td>683.000000</td>\n",
       "    </tr>\n",
       "    <tr>\n",
       "      <td>New Delhi</td>\n",
       "      <td>677.250000</td>\n",
       "    </tr>\n",
       "    <tr>\n",
       "      <td>Chennai</td>\n",
       "      <td>655.000000</td>\n",
       "    </tr>\n",
       "    <tr>\n",
       "      <td>Pune</td>\n",
       "      <td>631.150000</td>\n",
       "    </tr>\n",
       "    <tr>\n",
       "      <td>Bangalore</td>\n",
       "      <td>612.572727</td>\n",
       "    </tr>\n",
       "    <tr>\n",
       "      <td>Cochin</td>\n",
       "      <td>599.500000</td>\n",
       "    </tr>\n",
       "    <tr>\n",
       "      <td>Coimbatore</td>\n",
       "      <td>590.000000</td>\n",
       "    </tr>\n",
       "    <tr>\n",
       "      <td>Thiruvananthapuram</td>\n",
       "      <td>584.500000</td>\n",
       "    </tr>\n",
       "    <tr>\n",
       "      <td>Mumbai</td>\n",
       "      <td>583.850000</td>\n",
       "    </tr>\n",
       "    <tr>\n",
       "      <td>Ahmedabad</td>\n",
       "      <td>580.250000</td>\n",
       "    </tr>\n",
       "    <tr>\n",
       "      <td>Hyderābād</td>\n",
       "      <td>564.541667</td>\n",
       "    </tr>\n",
       "    <tr>\n",
       "      <td>Jaipur</td>\n",
       "      <td>521.250000</td>\n",
       "    </tr>\n",
       "    <tr>\n",
       "      <td>Nāgpur</td>\n",
       "      <td>517.500000</td>\n",
       "    </tr>\n",
       "    <tr>\n",
       "      <td>Calcutta</td>\n",
       "      <td>489.000000</td>\n",
       "    </tr>\n",
       "    <tr>\n",
       "      <td>South Andaman</td>\n",
       "      <td>488.500000</td>\n",
       "    </tr>\n",
       "    <tr>\n",
       "      <td>Indore</td>\n",
       "      <td>458.000000</td>\n",
       "    </tr>\n",
       "    <tr>\n",
       "      <td>SAS Nagar</td>\n",
       "      <td>450.000000</td>\n",
       "    </tr>\n",
       "    <tr>\n",
       "      <td>Noida</td>\n",
       "      <td>440.000000</td>\n",
       "    </tr>\n",
       "  </tbody>\n",
       "</table>\n",
       "</div>"
      ],
      "text/plain": [
       "                    avg_salary\n",
       "Location                      \n",
       "Gurgaon             695.416667\n",
       "Panchkula           683.000000\n",
       "New Delhi           677.250000\n",
       "Chennai             655.000000\n",
       "Pune                631.150000\n",
       "Bangalore           612.572727\n",
       "Cochin              599.500000\n",
       "Coimbatore          590.000000\n",
       "Thiruvananthapuram  584.500000\n",
       "Mumbai              583.850000\n",
       "Ahmedabad           580.250000\n",
       "Hyderābād           564.541667\n",
       "Jaipur              521.250000\n",
       "Nāgpur              517.500000\n",
       "Calcutta            489.000000\n",
       "South Andaman       488.500000\n",
       "Indore              458.000000\n",
       "SAS Nagar           450.000000\n",
       "Noida               440.000000"
      ]
     },
     "execution_count": 32,
     "metadata": {},
     "output_type": "execute_result"
    }
   ],
   "source": [
    "pd.pivot_table(df, index = 'Location', values = 'avg_salary').sort_values('avg_salary', ascending = False)"
   ]
  },
  {
   "cell_type": "code",
   "execution_count": 33,
   "metadata": {},
   "outputs": [
    {
     "data": {
      "text/html": [
       "<div>\n",
       "<style scoped>\n",
       "    .dataframe tbody tr th:only-of-type {\n",
       "        vertical-align: middle;\n",
       "    }\n",
       "\n",
       "    .dataframe tbody tr th {\n",
       "        vertical-align: top;\n",
       "    }\n",
       "\n",
       "    .dataframe thead th {\n",
       "        text-align: right;\n",
       "    }\n",
       "</style>\n",
       "<table border=\"1\" class=\"dataframe\">\n",
       "  <thead>\n",
       "    <tr style=\"text-align: right;\">\n",
       "      <th></th>\n",
       "      <th></th>\n",
       "      <th>avg_salary</th>\n",
       "    </tr>\n",
       "    <tr>\n",
       "      <th>Location</th>\n",
       "      <th>job_simp</th>\n",
       "      <th></th>\n",
       "    </tr>\n",
       "  </thead>\n",
       "  <tbody>\n",
       "    <tr>\n",
       "      <td>Thiruvananthapuram</td>\n",
       "      <td>data scientist</td>\n",
       "      <td>1</td>\n",
       "    </tr>\n",
       "    <tr>\n",
       "      <td>South Andaman</td>\n",
       "      <td>mle</td>\n",
       "      <td>1</td>\n",
       "    </tr>\n",
       "    <tr>\n",
       "      <td>SAS Nagar</td>\n",
       "      <td>mle</td>\n",
       "      <td>1</td>\n",
       "    </tr>\n",
       "    <tr>\n",
       "      <td rowspan=\"2\" valign=\"top\">Pune</td>\n",
       "      <td>data scientist</td>\n",
       "      <td>8</td>\n",
       "    </tr>\n",
       "    <tr>\n",
       "      <td>data engineer</td>\n",
       "      <td>2</td>\n",
       "    </tr>\n",
       "    <tr>\n",
       "      <td>Panchkula</td>\n",
       "      <td>data engineer</td>\n",
       "      <td>1</td>\n",
       "    </tr>\n",
       "    <tr>\n",
       "      <td>Nāgpur</td>\n",
       "      <td>mle</td>\n",
       "      <td>1</td>\n",
       "    </tr>\n",
       "    <tr>\n",
       "      <td>Noida</td>\n",
       "      <td>data scientist</td>\n",
       "      <td>1</td>\n",
       "    </tr>\n",
       "    <tr>\n",
       "      <td>New Delhi</td>\n",
       "      <td>data scientist</td>\n",
       "      <td>2</td>\n",
       "    </tr>\n",
       "    <tr>\n",
       "      <td rowspan=\"2\" valign=\"top\">Mumbai</td>\n",
       "      <td>data scientist</td>\n",
       "      <td>7</td>\n",
       "    </tr>\n",
       "    <tr>\n",
       "      <td>data engineer</td>\n",
       "      <td>3</td>\n",
       "    </tr>\n",
       "    <tr>\n",
       "      <td>Jaipur</td>\n",
       "      <td>data scientist</td>\n",
       "      <td>2</td>\n",
       "    </tr>\n",
       "    <tr>\n",
       "      <td>Indore</td>\n",
       "      <td>data engineer</td>\n",
       "      <td>1</td>\n",
       "    </tr>\n",
       "    <tr>\n",
       "      <td rowspan=\"3\" valign=\"top\">Hyderābād</td>\n",
       "      <td>data scientist</td>\n",
       "      <td>3</td>\n",
       "    </tr>\n",
       "    <tr>\n",
       "      <td>na</td>\n",
       "      <td>1</td>\n",
       "    </tr>\n",
       "    <tr>\n",
       "      <td>data engineer</td>\n",
       "      <td>8</td>\n",
       "    </tr>\n",
       "    <tr>\n",
       "      <td rowspan=\"3\" valign=\"top\">Gurgaon</td>\n",
       "      <td>data scientist</td>\n",
       "      <td>4</td>\n",
       "    </tr>\n",
       "    <tr>\n",
       "      <td>data engineer</td>\n",
       "      <td>1</td>\n",
       "    </tr>\n",
       "    <tr>\n",
       "      <td>analyst</td>\n",
       "      <td>1</td>\n",
       "    </tr>\n",
       "    <tr>\n",
       "      <td>Coimbatore</td>\n",
       "      <td>data scientist</td>\n",
       "      <td>1</td>\n",
       "    </tr>\n",
       "    <tr>\n",
       "      <td>Cochin</td>\n",
       "      <td>data scientist</td>\n",
       "      <td>1</td>\n",
       "    </tr>\n",
       "    <tr>\n",
       "      <td rowspan=\"3\" valign=\"top\">Chennai</td>\n",
       "      <td>data scientist</td>\n",
       "      <td>4</td>\n",
       "    </tr>\n",
       "    <tr>\n",
       "      <td>data engineer</td>\n",
       "      <td>2</td>\n",
       "    </tr>\n",
       "    <tr>\n",
       "      <td>analyst</td>\n",
       "      <td>1</td>\n",
       "    </tr>\n",
       "    <tr>\n",
       "      <td>Calcutta</td>\n",
       "      <td>analyst</td>\n",
       "      <td>1</td>\n",
       "    </tr>\n",
       "    <tr>\n",
       "      <td rowspan=\"5\" valign=\"top\">Bangalore</td>\n",
       "      <td>analyst</td>\n",
       "      <td>2</td>\n",
       "    </tr>\n",
       "    <tr>\n",
       "      <td>na</td>\n",
       "      <td>4</td>\n",
       "    </tr>\n",
       "    <tr>\n",
       "      <td>mle</td>\n",
       "      <td>1</td>\n",
       "    </tr>\n",
       "    <tr>\n",
       "      <td>data scientist</td>\n",
       "      <td>35</td>\n",
       "    </tr>\n",
       "    <tr>\n",
       "      <td>data engineer</td>\n",
       "      <td>13</td>\n",
       "    </tr>\n",
       "    <tr>\n",
       "      <td>Ahmedabad</td>\n",
       "      <td>data scientist</td>\n",
       "      <td>4</td>\n",
       "    </tr>\n",
       "  </tbody>\n",
       "</table>\n",
       "</div>"
      ],
      "text/plain": [
       "                                   avg_salary\n",
       "Location           job_simp                  \n",
       "Thiruvananthapuram data scientist           1\n",
       "South Andaman      mle                      1\n",
       "SAS Nagar          mle                      1\n",
       "Pune               data scientist           8\n",
       "                   data engineer            2\n",
       "Panchkula          data engineer            1\n",
       "Nāgpur             mle                      1\n",
       "Noida              data scientist           1\n",
       "New Delhi          data scientist           2\n",
       "Mumbai             data scientist           7\n",
       "                   data engineer            3\n",
       "Jaipur             data scientist           2\n",
       "Indore             data engineer            1\n",
       "Hyderābād          data scientist           3\n",
       "                   na                       1\n",
       "                   data engineer            8\n",
       "Gurgaon            data scientist           4\n",
       "                   data engineer            1\n",
       "                   analyst                  1\n",
       "Coimbatore         data scientist           1\n",
       "Cochin             data scientist           1\n",
       "Chennai            data scientist           4\n",
       "                   data engineer            2\n",
       "                   analyst                  1\n",
       "Calcutta           analyst                  1\n",
       "Bangalore          analyst                  2\n",
       "                   na                       4\n",
       "                   mle                      1\n",
       "                   data scientist          35\n",
       "                   data engineer           13\n",
       "Ahmedabad          data scientist           4"
      ]
     },
     "execution_count": 33,
     "metadata": {},
     "output_type": "execute_result"
    }
   ],
   "source": [
    "pd.pivot_table(df, index = ['Location','job_simp'], values = 'avg_salary',aggfunc='count').sort_values('Location', ascending = False)"
   ]
  },
  {
   "cell_type": "code",
   "execution_count": 34,
   "metadata": {},
   "outputs": [
    {
     "data": {
      "text/html": [
       "<div>\n",
       "<style scoped>\n",
       "    .dataframe tbody tr th:only-of-type {\n",
       "        vertical-align: middle;\n",
       "    }\n",
       "\n",
       "    .dataframe tbody tr th {\n",
       "        vertical-align: top;\n",
       "    }\n",
       "\n",
       "    .dataframe thead th {\n",
       "        text-align: right;\n",
       "    }\n",
       "</style>\n",
       "<table border=\"1\" class=\"dataframe\">\n",
       "  <thead>\n",
       "    <tr style=\"text-align: right;\">\n",
       "      <th></th>\n",
       "      <th></th>\n",
       "      <th>avg_salary</th>\n",
       "    </tr>\n",
       "    <tr>\n",
       "      <th>Location</th>\n",
       "      <th>job_simp</th>\n",
       "      <th></th>\n",
       "    </tr>\n",
       "  </thead>\n",
       "  <tbody>\n",
       "    <tr>\n",
       "      <td>Thiruvananthapuram</td>\n",
       "      <td>data scientist</td>\n",
       "      <td>584.500000</td>\n",
       "    </tr>\n",
       "    <tr>\n",
       "      <td>South Andaman</td>\n",
       "      <td>mle</td>\n",
       "      <td>488.500000</td>\n",
       "    </tr>\n",
       "    <tr>\n",
       "      <td>SAS Nagar</td>\n",
       "      <td>mle</td>\n",
       "      <td>450.000000</td>\n",
       "    </tr>\n",
       "    <tr>\n",
       "      <td rowspan=\"2\" valign=\"top\">Pune</td>\n",
       "      <td>data scientist</td>\n",
       "      <td>598.062500</td>\n",
       "    </tr>\n",
       "    <tr>\n",
       "      <td>data engineer</td>\n",
       "      <td>763.500000</td>\n",
       "    </tr>\n",
       "    <tr>\n",
       "      <td>Panchkula</td>\n",
       "      <td>data engineer</td>\n",
       "      <td>683.000000</td>\n",
       "    </tr>\n",
       "    <tr>\n",
       "      <td>Nāgpur</td>\n",
       "      <td>mle</td>\n",
       "      <td>517.500000</td>\n",
       "    </tr>\n",
       "    <tr>\n",
       "      <td>Noida</td>\n",
       "      <td>data scientist</td>\n",
       "      <td>440.000000</td>\n",
       "    </tr>\n",
       "    <tr>\n",
       "      <td>New Delhi</td>\n",
       "      <td>data scientist</td>\n",
       "      <td>677.250000</td>\n",
       "    </tr>\n",
       "    <tr>\n",
       "      <td rowspan=\"2\" valign=\"top\">Mumbai</td>\n",
       "      <td>data scientist</td>\n",
       "      <td>569.500000</td>\n",
       "    </tr>\n",
       "    <tr>\n",
       "      <td>data engineer</td>\n",
       "      <td>617.333333</td>\n",
       "    </tr>\n",
       "    <tr>\n",
       "      <td>Jaipur</td>\n",
       "      <td>data scientist</td>\n",
       "      <td>521.250000</td>\n",
       "    </tr>\n",
       "    <tr>\n",
       "      <td>Indore</td>\n",
       "      <td>data engineer</td>\n",
       "      <td>458.000000</td>\n",
       "    </tr>\n",
       "    <tr>\n",
       "      <td rowspan=\"3\" valign=\"top\">Hyderābād</td>\n",
       "      <td>data scientist</td>\n",
       "      <td>467.166667</td>\n",
       "    </tr>\n",
       "    <tr>\n",
       "      <td>na</td>\n",
       "      <td>608.000000</td>\n",
       "    </tr>\n",
       "    <tr>\n",
       "      <td>data engineer</td>\n",
       "      <td>595.625000</td>\n",
       "    </tr>\n",
       "    <tr>\n",
       "      <td rowspan=\"3\" valign=\"top\">Gurgaon</td>\n",
       "      <td>data scientist</td>\n",
       "      <td>792.250000</td>\n",
       "    </tr>\n",
       "    <tr>\n",
       "      <td>data engineer</td>\n",
       "      <td>578.500000</td>\n",
       "    </tr>\n",
       "    <tr>\n",
       "      <td>analyst</td>\n",
       "      <td>425.000000</td>\n",
       "    </tr>\n",
       "    <tr>\n",
       "      <td>Coimbatore</td>\n",
       "      <td>data scientist</td>\n",
       "      <td>590.000000</td>\n",
       "    </tr>\n",
       "    <tr>\n",
       "      <td>Cochin</td>\n",
       "      <td>data scientist</td>\n",
       "      <td>599.500000</td>\n",
       "    </tr>\n",
       "    <tr>\n",
       "      <td rowspan=\"3\" valign=\"top\">Chennai</td>\n",
       "      <td>data scientist</td>\n",
       "      <td>732.375000</td>\n",
       "    </tr>\n",
       "    <tr>\n",
       "      <td>data engineer</td>\n",
       "      <td>542.250000</td>\n",
       "    </tr>\n",
       "    <tr>\n",
       "      <td>analyst</td>\n",
       "      <td>571.000000</td>\n",
       "    </tr>\n",
       "    <tr>\n",
       "      <td>Calcutta</td>\n",
       "      <td>analyst</td>\n",
       "      <td>489.000000</td>\n",
       "    </tr>\n",
       "    <tr>\n",
       "      <td rowspan=\"5\" valign=\"top\">Bangalore</td>\n",
       "      <td>analyst</td>\n",
       "      <td>772.250000</td>\n",
       "    </tr>\n",
       "    <tr>\n",
       "      <td>na</td>\n",
       "      <td>304.750000</td>\n",
       "    </tr>\n",
       "    <tr>\n",
       "      <td>mle</td>\n",
       "      <td>384.500000</td>\n",
       "    </tr>\n",
       "    <tr>\n",
       "      <td>data scientist</td>\n",
       "      <td>653.000000</td>\n",
       "    </tr>\n",
       "    <tr>\n",
       "      <td>data engineer</td>\n",
       "      <td>591.423077</td>\n",
       "    </tr>\n",
       "    <tr>\n",
       "      <td>Ahmedabad</td>\n",
       "      <td>data scientist</td>\n",
       "      <td>580.250000</td>\n",
       "    </tr>\n",
       "  </tbody>\n",
       "</table>\n",
       "</div>"
      ],
      "text/plain": [
       "                                   avg_salary\n",
       "Location           job_simp                  \n",
       "Thiruvananthapuram data scientist  584.500000\n",
       "South Andaman      mle             488.500000\n",
       "SAS Nagar          mle             450.000000\n",
       "Pune               data scientist  598.062500\n",
       "                   data engineer   763.500000\n",
       "Panchkula          data engineer   683.000000\n",
       "Nāgpur             mle             517.500000\n",
       "Noida              data scientist  440.000000\n",
       "New Delhi          data scientist  677.250000\n",
       "Mumbai             data scientist  569.500000\n",
       "                   data engineer   617.333333\n",
       "Jaipur             data scientist  521.250000\n",
       "Indore             data engineer   458.000000\n",
       "Hyderābād          data scientist  467.166667\n",
       "                   na              608.000000\n",
       "                   data engineer   595.625000\n",
       "Gurgaon            data scientist  792.250000\n",
       "                   data engineer   578.500000\n",
       "                   analyst         425.000000\n",
       "Coimbatore         data scientist  590.000000\n",
       "Cochin             data scientist  599.500000\n",
       "Chennai            data scientist  732.375000\n",
       "                   data engineer   542.250000\n",
       "                   analyst         571.000000\n",
       "Calcutta           analyst         489.000000\n",
       "Bangalore          analyst         772.250000\n",
       "                   na              304.750000\n",
       "                   mle             384.500000\n",
       "                   data scientist  653.000000\n",
       "                   data engineer   591.423077\n",
       "Ahmedabad          data scientist  580.250000"
      ]
     },
     "execution_count": 34,
     "metadata": {},
     "output_type": "execute_result"
    }
   ],
   "source": [
    "pd.pivot_table(df, index = ['Location','job_simp'], values = 'avg_salary').sort_values('Location', ascending = False)"
   ]
  },
  {
   "cell_type": "code",
   "execution_count": 35,
   "metadata": {},
   "outputs": [
    {
     "data": {
      "text/html": [
       "<div>\n",
       "<style scoped>\n",
       "    .dataframe tbody tr th:only-of-type {\n",
       "        vertical-align: middle;\n",
       "    }\n",
       "\n",
       "    .dataframe tbody tr th {\n",
       "        vertical-align: top;\n",
       "    }\n",
       "\n",
       "    .dataframe thead th {\n",
       "        text-align: right;\n",
       "    }\n",
       "</style>\n",
       "<table border=\"1\" class=\"dataframe\">\n",
       "  <thead>\n",
       "    <tr style=\"text-align: right;\">\n",
       "      <th></th>\n",
       "      <th>avg_salary</th>\n",
       "    </tr>\n",
       "    <tr>\n",
       "      <th>Location</th>\n",
       "      <th></th>\n",
       "    </tr>\n",
       "  </thead>\n",
       "  <tbody>\n",
       "    <tr>\n",
       "      <td>Gurgaon</td>\n",
       "      <td>792.250000</td>\n",
       "    </tr>\n",
       "    <tr>\n",
       "      <td>Chennai</td>\n",
       "      <td>732.375000</td>\n",
       "    </tr>\n",
       "    <tr>\n",
       "      <td>New Delhi</td>\n",
       "      <td>677.250000</td>\n",
       "    </tr>\n",
       "    <tr>\n",
       "      <td>Bangalore</td>\n",
       "      <td>653.000000</td>\n",
       "    </tr>\n",
       "    <tr>\n",
       "      <td>Cochin</td>\n",
       "      <td>599.500000</td>\n",
       "    </tr>\n",
       "    <tr>\n",
       "      <td>Pune</td>\n",
       "      <td>598.062500</td>\n",
       "    </tr>\n",
       "    <tr>\n",
       "      <td>Coimbatore</td>\n",
       "      <td>590.000000</td>\n",
       "    </tr>\n",
       "    <tr>\n",
       "      <td>Thiruvananthapuram</td>\n",
       "      <td>584.500000</td>\n",
       "    </tr>\n",
       "    <tr>\n",
       "      <td>Ahmedabad</td>\n",
       "      <td>580.250000</td>\n",
       "    </tr>\n",
       "    <tr>\n",
       "      <td>Mumbai</td>\n",
       "      <td>569.500000</td>\n",
       "    </tr>\n",
       "    <tr>\n",
       "      <td>Jaipur</td>\n",
       "      <td>521.250000</td>\n",
       "    </tr>\n",
       "    <tr>\n",
       "      <td>Hyderābād</td>\n",
       "      <td>467.166667</td>\n",
       "    </tr>\n",
       "    <tr>\n",
       "      <td>Noida</td>\n",
       "      <td>440.000000</td>\n",
       "    </tr>\n",
       "  </tbody>\n",
       "</table>\n",
       "</div>"
      ],
      "text/plain": [
       "                    avg_salary\n",
       "Location                      \n",
       "Gurgaon             792.250000\n",
       "Chennai             732.375000\n",
       "New Delhi           677.250000\n",
       "Bangalore           653.000000\n",
       "Cochin              599.500000\n",
       "Pune                598.062500\n",
       "Coimbatore          590.000000\n",
       "Thiruvananthapuram  584.500000\n",
       "Ahmedabad           580.250000\n",
       "Mumbai              569.500000\n",
       "Jaipur              521.250000\n",
       "Hyderābād           467.166667\n",
       "Noida               440.000000"
      ]
     },
     "execution_count": 35,
     "metadata": {},
     "output_type": "execute_result"
    }
   ],
   "source": [
    "pd.pivot_table(df[df.job_simp == 'data scientist'], index = 'Location', values = 'avg_salary').sort_values('avg_salary', ascending = False)"
   ]
  },
  {
   "cell_type": "code",
   "execution_count": 36,
   "metadata": {},
   "outputs": [],
   "source": [
    "# salary by rating"
   ]
  },
  {
   "cell_type": "code",
   "execution_count": 37,
   "metadata": {},
   "outputs": [
    {
     "data": {
      "text/plain": [
       "Index(['Job Title', 'Salary Estimate', 'Job Function', 'Job Description',\n",
       "       'Company Name', 'Rating', 'Location', 'Size', 'Founded',\n",
       "       'Type of ownership', 'Industry', 'Sector', 'Revenue', 'min_salary',\n",
       "       'max_salary', 'avg_salary', 'age', 'python_yn', 'R_yn', 'spark', 'aws',\n",
       "       'excel', 'company_txt', 'job_state', 'job_simp', 'seniority',\n",
       "       'desc_len'],\n",
       "      dtype='object')"
      ]
     },
     "execution_count": 37,
     "metadata": {},
     "output_type": "execute_result"
    }
   ],
   "source": [
    "df.columns"
   ]
  },
  {
   "cell_type": "code",
   "execution_count": 38,
   "metadata": {},
   "outputs": [],
   "source": [
    "df_pivots = df[['avg_salary','Rating','Size','Type of ownership','Industry','Sector','Revenue','job_state','age','python_yn','R_yn','spark','aws','excel','job_simp',\n",
    "               'seniority','desc_len']]"
   ]
  },
  {
   "cell_type": "code",
   "execution_count": 39,
   "metadata": {},
   "outputs": [
    {
     "name": "stdout",
     "output_type": "stream",
     "text": [
      "\n",
      "---------------Rating--------------------\n",
      "        avg_salary\n",
      "Rating            \n",
      " 3.4    710.000000\n",
      " 3.7    696.181818\n",
      " 4.9    679.500000\n",
      " 2.9    675.000000\n",
      " 4.2    668.100000\n",
      " 4.7    662.500000\n",
      " 4.5    658.800000\n",
      " 3.2    650.250000\n",
      " 3.8    646.346154\n",
      " 4.1    644.541667\n",
      " 4.0    629.333333\n",
      " 2.3    619.000000\n",
      " 3.9    613.333333\n",
      "-1.0    597.000000\n",
      " 4.4    579.777778\n",
      " 2.6    575.000000\n",
      " 3.1    571.500000\n",
      " 3.0    545.000000\n",
      " 3.5    516.166667\n",
      " 5.0    499.000000\n",
      " 3.6    496.700000\n",
      " 4.6    458.000000\n",
      " 4.3    445.541667\n",
      " 2.7    403.500000\n",
      "\n",
      "---------------Size--------------------\n",
      "                         avg_salary\n",
      "Size                               \n",
      "5001 to 10000 Employees  732.250000\n",
      "1001 to 5000 Employees   654.823529\n",
      "51 to 200 Employees      629.076923\n",
      "501 to 1000 Employees    623.500000\n",
      "Unknown                  611.750000\n",
      "10000+ Employees         587.420000\n",
      "201 to 500 Employees     582.791667\n",
      "-1                       567.750000\n",
      "1 to 50 Employees        524.700000\n",
      "\n",
      "---------------Type of ownership--------------------\n",
      "                                avg_salary\n",
      "Type of ownership                         \n",
      "Subsidiary or Business Segment  684.875000\n",
      "Company - Private               605.288136\n",
      "Company - Public                600.107843\n",
      "Unknown                         599.500000\n",
      "-1                              567.750000\n",
      "\n",
      "---------------Industry--------------------\n",
      "                                         avg_salary\n",
      "Industry                                           \n",
      "Transport Equipment Manufacturing        826.000000\n",
      "Consulting                               739.500000\n",
      "Banks & Building Society                 722.666667\n",
      "Aerospace & Defence                      710.000000\n",
      "Food & Drink Manufacturing               692.000000\n",
      "Wholesale                                683.000000\n",
      "Healthcare Services & Hospital           679.250000\n",
      "Chemical Manufacturing                   676.500000\n",
      "Industrial Manufacturing                 669.000000\n",
      "Computer Hardware & Software             658.468750\n",
      "Financial Transaction Processing         632.000000\n",
      "Energy                                   629.500000\n",
      "IT Service                               618.323529\n",
      "Security Service                         610.000000\n",
      "Enterprise Software & Network Solutions  607.250000\n",
      "-1                                       574.500000\n",
      "Lending                                  571.000000\n",
      "Investment Banking & Asset Management    561.000000\n",
      "Staffing & Outsourcing                   523.687500\n",
      "Internet                                 513.000000\n",
      "Electrical & Electronic Manufacturing    510.000000\n",
      "Consumer Products Manufacturing          494.000000\n",
      "Architectural & Engineering Service      488.500000\n",
      "Biotech & Pharmaceutical                 485.000000\n",
      "Oil & Gas Service                        449.500000\n",
      "Education Training Service               400.000000\n",
      "Insurance Agencies & Brokerage           396.000000\n",
      "\n",
      "---------------Sector--------------------\n",
      "                            avg_salary\n",
      "Sector                                \n",
      "Aerospace & Defence         710.000000\n",
      "Healthcare                  679.250000\n",
      "Finance                     652.000000\n",
      "Business Service            624.850000\n",
      "Manufacturing               623.071429\n",
      "Information Technology      603.851562\n",
      "-1                          574.500000\n",
      "Oil, Gas, Energy & Utility  539.500000\n",
      "Biotech & Pharmaceutical    485.000000\n",
      "Education                   400.000000\n",
      "Insurance                   396.000000\n",
      "\n",
      "---------------Revenue--------------------\n",
      "                                  avg_salary\n",
      "Revenue                                     \n",
      "$1 to $2 billion (USD)            719.000000\n",
      "$2 to $5 billion (USD)            693.928571\n",
      "$100 to $500 million (USD)        664.300000\n",
      "$1 to $5 million (USD)            660.750000\n",
      "$5 to $10 million (USD)           649.500000\n",
      "$500 million to $1 billion (USD)  640.583333\n",
      "$5 to $10 billion (USD)           608.625000\n",
      "Unknown / Non-Applicable          601.597826\n",
      "$50 to $100 million (USD)         594.000000\n",
      "$25 to $50 million (USD)          590.000000\n",
      "-1                                567.750000\n",
      "$10+ billion (USD)                554.982759\n",
      "Less than $1 million (USD)        539.000000\n",
      "$10 to $25 million (USD)          400.000000\n",
      "\n",
      "---------------job_state--------------------\n",
      "                    avg_salary\n",
      "job_state                     \n",
      "Gurgaon             695.416667\n",
      "Panchkula           683.000000\n",
      "New Delhi           677.250000\n",
      "Chennai             655.000000\n",
      "Pune                631.150000\n",
      "Bangalore           612.572727\n",
      "Cochin              599.500000\n",
      "Coimbatore          590.000000\n",
      "Thiruvananthapuram  584.500000\n",
      "Mumbai              583.850000\n",
      "Ahmedabad           580.250000\n",
      "Hyderābād           564.541667\n",
      "Jaipur              521.250000\n",
      "Nāgpur              517.500000\n",
      "Calcutta            489.000000\n",
      "South Andaman       488.500000\n",
      "Indore              458.000000\n",
      "SAS Nagar           450.000000\n",
      "Noida               440.000000\n",
      "\n",
      "---------------age--------------------\n",
      "         avg_salary\n",
      "age                \n",
      " 222.0  1037.000000\n",
      " 32.0    916.500000\n",
      " 58.0    907.000000\n",
      " 18.0    894.500000\n",
      " 171.0   872.000000\n",
      " 39.0    865.000000\n",
      " 20.0    860.000000\n",
      " 136.0   851.000000\n",
      " 36.0    837.000000\n",
      " 43.0    804.000000\n",
      " 185.0   784.750000\n",
      " 169.0   745.000000\n",
      " 34.0    743.000000\n",
      " 82.0    740.500000\n",
      " 64.0    722.000000\n",
      " 42.0    714.500000\n",
      " 23.0    711.750000\n",
      " 70.0    710.000000\n",
      " 24.0    708.250000\n",
      " 115.0   692.000000\n",
      " 38.0    690.500000\n",
      " 51.0    676.500000\n",
      " 3.0     675.000000\n",
      " 52.0    675.000000\n",
      " 7.0     660.500000\n",
      " 6.0     654.400000\n",
      " 29.0    638.000000\n",
      " 17.0    631.500000\n",
      " 98.0    599.500000\n",
      " 22.0    584.500000\n",
      " 10.0    580.000000\n",
      "-1.0     577.906250\n",
      " 1.0     574.166667\n",
      " 44.0    573.166667\n",
      " 54.0    567.000000\n",
      " 16.0    559.750000\n",
      " 8.0     557.833333\n",
      " 25.0    555.333333\n",
      " 14.0    553.750000\n",
      " 9.0     547.666667\n",
      " 28.0    545.000000\n",
      " 5.0     534.500000\n",
      " 21.0    523.250000\n",
      " 13.0    521.000000\n",
      " 46.0    520.500000\n",
      " 178.0   510.000000\n",
      " 123.0   488.500000\n",
      " 40.0    467.000000\n",
      " 12.0    454.000000\n",
      " 37.0    450.000000\n",
      " 95.0    449.500000\n",
      " 45.0    442.500000\n",
      " 158.0   440.500000\n",
      " 4.0     403.500000\n",
      " 151.0   386.000000\n",
      " 27.0    361.000000\n",
      "\n",
      "---------------python_yn--------------------\n",
      "           avg_salary\n",
      "python_yn            \n",
      "1          618.826087\n",
      "0          601.668421\n",
      "\n",
      "---------------R_yn--------------------\n",
      "      avg_salary\n",
      "R_yn            \n",
      "1     655.230769\n",
      "0     590.820652\n",
      "\n",
      "---------------spark--------------------\n",
      "       avg_salary\n",
      "spark            \n",
      "0      605.675676\n",
      "1      594.500000\n",
      "\n",
      "---------------aws--------------------\n",
      "     avg_salary\n",
      "aws            \n",
      "0    611.858491\n",
      "1    544.541667\n",
      "\n",
      "---------------excel--------------------\n",
      "       avg_salary\n",
      "excel            \n",
      "0      606.560748\n",
      "1      589.954545\n",
      "\n",
      "---------------job_simp--------------------\n",
      "                avg_salary\n",
      "job_simp                  \n",
      "data scientist  630.931507\n",
      "analyst         605.900000\n",
      "data engineer   601.177419\n",
      "mle             460.125000\n",
      "na              365.400000\n",
      "\n",
      "---------------seniority--------------------\n",
      "           avg_salary\n",
      "seniority            \n",
      "senior     624.444444\n",
      "na         603.929245\n",
      "jr         585.000000\n",
      "\n",
      "---------------desc_len--------------------\n",
      "          avg_salary\n",
      "desc_len            \n",
      "915           1037.0\n",
      "734            927.5\n",
      "1237           923.0\n",
      "2782           916.5\n",
      "171            907.0\n",
      "...              ...\n",
      "100            357.5\n",
      "1330           352.0\n",
      "1061           286.5\n",
      "713            200.0\n",
      "693            200.0\n",
      "\n",
      "[108 rows x 1 columns]\n"
     ]
    }
   ],
   "source": [
    "for i in df_pivots.columns:\n",
    "    if (i!='avg_salary'):\n",
    "        print(\"\")\n",
    "        print(\"---------------\"+i+\"--------------------\")    \n",
    "        print(pd.pivot_table(df_pivots, index = i, values = 'avg_salary').sort_values('avg_salary', ascending = False))"
   ]
  },
  {
   "cell_type": "code",
   "execution_count": 40,
   "metadata": {},
   "outputs": [
    {
     "data": {
      "text/html": [
       "<div>\n",
       "<style scoped>\n",
       "    .dataframe tbody tr th:only-of-type {\n",
       "        vertical-align: middle;\n",
       "    }\n",
       "\n",
       "    .dataframe tbody tr th {\n",
       "        vertical-align: top;\n",
       "    }\n",
       "\n",
       "    .dataframe thead th {\n",
       "        text-align: right;\n",
       "    }\n",
       "</style>\n",
       "<table border=\"1\" class=\"dataframe\">\n",
       "  <thead>\n",
       "    <tr style=\"text-align: right;\">\n",
       "      <th>python_yn</th>\n",
       "      <th>0</th>\n",
       "      <th>1</th>\n",
       "    </tr>\n",
       "    <tr>\n",
       "      <th>Revenue</th>\n",
       "      <th></th>\n",
       "      <th></th>\n",
       "    </tr>\n",
       "  </thead>\n",
       "  <tbody>\n",
       "    <tr>\n",
       "      <td>$1 to $2 billion (USD)</td>\n",
       "      <td>5.0</td>\n",
       "      <td>1.0</td>\n",
       "    </tr>\n",
       "    <tr>\n",
       "      <td>$1 to $5 million (USD)</td>\n",
       "      <td>2.0</td>\n",
       "      <td>NaN</td>\n",
       "    </tr>\n",
       "    <tr>\n",
       "      <td>$10 to $25 million (USD)</td>\n",
       "      <td>1.0</td>\n",
       "      <td>NaN</td>\n",
       "    </tr>\n",
       "    <tr>\n",
       "      <td>$10+ billion (USD)</td>\n",
       "      <td>22.0</td>\n",
       "      <td>7.0</td>\n",
       "    </tr>\n",
       "    <tr>\n",
       "      <td>$100 to $500 million (USD)</td>\n",
       "      <td>3.0</td>\n",
       "      <td>2.0</td>\n",
       "    </tr>\n",
       "    <tr>\n",
       "      <td>$2 to $5 billion (USD)</td>\n",
       "      <td>7.0</td>\n",
       "      <td>NaN</td>\n",
       "    </tr>\n",
       "    <tr>\n",
       "      <td>$25 to $50 million (USD)</td>\n",
       "      <td>NaN</td>\n",
       "      <td>1.0</td>\n",
       "    </tr>\n",
       "    <tr>\n",
       "      <td>$5 to $10 billion (USD)</td>\n",
       "      <td>8.0</td>\n",
       "      <td>NaN</td>\n",
       "    </tr>\n",
       "    <tr>\n",
       "      <td>$5 to $10 million (USD)</td>\n",
       "      <td>2.0</td>\n",
       "      <td>NaN</td>\n",
       "    </tr>\n",
       "    <tr>\n",
       "      <td>$50 to $100 million (USD)</td>\n",
       "      <td>1.0</td>\n",
       "      <td>NaN</td>\n",
       "    </tr>\n",
       "    <tr>\n",
       "      <td>$500 million to $1 billion (USD)</td>\n",
       "      <td>4.0</td>\n",
       "      <td>2.0</td>\n",
       "    </tr>\n",
       "    <tr>\n",
       "      <td>-1</td>\n",
       "      <td>2.0</td>\n",
       "      <td>NaN</td>\n",
       "    </tr>\n",
       "    <tr>\n",
       "      <td>Less than $1 million (USD)</td>\n",
       "      <td>NaN</td>\n",
       "      <td>2.0</td>\n",
       "    </tr>\n",
       "    <tr>\n",
       "      <td>Unknown / Non-Applicable</td>\n",
       "      <td>38.0</td>\n",
       "      <td>8.0</td>\n",
       "    </tr>\n",
       "  </tbody>\n",
       "</table>\n",
       "</div>"
      ],
      "text/plain": [
       "python_yn                            0    1\n",
       "Revenue                                    \n",
       "$1 to $2 billion (USD)             5.0  1.0\n",
       "$1 to $5 million (USD)             2.0  NaN\n",
       "$10 to $25 million (USD)           1.0  NaN\n",
       "$10+ billion (USD)                22.0  7.0\n",
       "$100 to $500 million (USD)         3.0  2.0\n",
       "$2 to $5 billion (USD)             7.0  NaN\n",
       "$25 to $50 million (USD)           NaN  1.0\n",
       "$5 to $10 billion (USD)            8.0  NaN\n",
       "$5 to $10 million (USD)            2.0  NaN\n",
       "$50 to $100 million (USD)          1.0  NaN\n",
       "$500 million to $1 billion (USD)   4.0  2.0\n",
       "-1                                 2.0  NaN\n",
       "Less than $1 million (USD)         NaN  2.0\n",
       "Unknown / Non-Applicable          38.0  8.0"
      ]
     },
     "execution_count": 40,
     "metadata": {},
     "output_type": "execute_result"
    }
   ],
   "source": [
    "pd.pivot_table(df_pivots, index = 'Revenue',columns = 'python_yn', values = 'avg_salary', aggfunc = 'count')"
   ]
  },
  {
   "cell_type": "code",
   "execution_count": 41,
   "metadata": {},
   "outputs": [],
   "source": [
    "##############"
   ]
  },
  {
   "cell_type": "code",
   "execution_count": 42,
   "metadata": {},
   "outputs": [
    {
     "data": {
      "text/plain": [
       "Index(['avg_salary', 'Rating', 'Size', 'Type of ownership', 'Industry',\n",
       "       'Sector', 'Revenue', 'job_state', 'age', 'python_yn', 'R_yn', 'spark',\n",
       "       'aws', 'excel', 'job_simp', 'seniority', 'desc_len'],\n",
       "      dtype='object')"
      ]
     },
     "execution_count": 42,
     "metadata": {},
     "output_type": "execute_result"
    }
   ],
   "source": [
    "df_pivots.columns"
   ]
  },
  {
   "cell_type": "code",
   "execution_count": 43,
   "metadata": {},
   "outputs": [
    {
     "data": {
      "text/plain": [
       "Index(['Job Title', 'Salary Estimate', 'Job Function', 'Job Description',\n",
       "       'Company Name', 'Rating', 'Location', 'Size', 'Founded',\n",
       "       'Type of ownership', 'Industry', 'Sector', 'Revenue', 'min_salary',\n",
       "       'max_salary', 'avg_salary', 'age', 'python_yn', 'R_yn', 'spark', 'aws',\n",
       "       'excel', 'company_txt', 'job_state', 'job_simp', 'seniority',\n",
       "       'desc_len'],\n",
       "      dtype='object')"
      ]
     },
     "execution_count": 43,
     "metadata": {},
     "output_type": "execute_result"
    }
   ],
   "source": [
    "df.columns"
   ]
  },
  {
   "cell_type": "code",
   "execution_count": 44,
   "metadata": {},
   "outputs": [],
   "source": [
    "df_pivots.to_csv('eda_data.csv',index=False)"
   ]
  },
  {
   "cell_type": "code",
   "execution_count": null,
   "metadata": {},
   "outputs": [],
   "source": []
  },
  {
   "cell_type": "code",
   "execution_count": null,
   "metadata": {},
   "outputs": [],
   "source": []
  },
  {
   "cell_type": "code",
   "execution_count": null,
   "metadata": {},
   "outputs": [],
   "source": []
  },
  {
   "cell_type": "code",
   "execution_count": null,
   "metadata": {},
   "outputs": [],
   "source": []
  }
 ],
 "metadata": {
  "kernelspec": {
   "display_name": "Python 3",
   "language": "python",
   "name": "python3"
  },
  "language_info": {
   "codemirror_mode": {
    "name": "ipython",
    "version": 3
   },
   "file_extension": ".py",
   "mimetype": "text/x-python",
   "name": "python",
   "nbconvert_exporter": "python",
   "pygments_lexer": "ipython3",
   "version": "3.7.4"
  }
 },
 "nbformat": 4,
 "nbformat_minor": 2
}
